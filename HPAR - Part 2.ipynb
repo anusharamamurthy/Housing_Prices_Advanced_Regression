{
 "cells": [
  {
   "cell_type": "markdown",
   "metadata": {},
   "source": [
    "# Predicting the Sale Price of Houses"
   ]
  },
  {
   "cell_type": "code",
   "execution_count": 1,
   "metadata": {
    "collapsed": false
   },
   "outputs": [],
   "source": [
    "%matplotlib inline\n",
    "import pandas as pd\n",
    "import matplotlib\n",
    "import numpy as np\n",
    "import matplotlib.pyplot as plt\n",
    "import seaborn as sns\n",
    "import pydotplus\n",
    "import graphviz\n",
    "\n",
    "from sklearn import datasets, linear_model\n",
    "from sklearn.ensemble import AdaBoostRegressor\n",
    "from sklearn.tree import DecisionTreeRegressor, export_graphviz\n",
    "from sklearn.feature_extraction import DictVectorizer\n",
    "from sklearn.model_selection import train_test_split\n",
    "from sklearn.model_selection import cross_val_score\n",
    "from IPython.display import Image "
   ]
  },
  {
   "cell_type": "code",
   "execution_count": 2,
   "metadata": {
    "collapsed": false
   },
   "outputs": [],
   "source": [
    "df = pd.read_csv(\"train.csv\")"
   ]
  },
  {
   "cell_type": "code",
   "execution_count": 118,
   "metadata": {
    "collapsed": false
   },
   "outputs": [
    {
     "data": {
      "text/plain": [
       "{'SaleCondition': {8: 'Abnorml',\n",
       "  9: 'Normal',\n",
       "  21: 'Normal',\n",
       "  29: 'Normal',\n",
       "  30: 'Normal',\n",
       "  51: 'Normal',\n",
       "  63: 'Normal',\n",
       "  68: 'Normal',\n",
       "  74: 'Normal',\n",
       "  90: 'Normal',\n",
       "  98: 'Abnorml',\n",
       "  104: 'Normal',\n",
       "  107: 'Partial',\n",
       "  121: 'Normal',\n",
       "  127: 'Normal',\n",
       "  149: 'Normal',\n",
       "  154: 'Family',\n",
       "  155: 'Normal',\n",
       "  156: 'Normal',\n",
       "  170: 'Normal',\n",
       "  181: 'Normal',\n",
       "  198: 'Abnorml',\n",
       "  202: 'Normal',\n",
       "  204: 'Normal',\n",
       "  210: 'Normal',\n",
       "  217: 'Family',\n",
       "  239: 'Normal',\n",
       "  242: 'Normal',\n",
       "  246: 'Normal',\n",
       "  296: 'Normal',\n",
       "  307: 'Normal',\n",
       "  308: 'Normal',\n",
       "  312: 'Normal',\n",
       "  325: 'Normal',\n",
       "  329: 'Normal',\n",
       "  341: 'Normal',\n",
       "  342: 'Normal',\n",
       "  345: 'Normal',\n",
       "  352: 'Normal',\n",
       "  375: 'Normal',\n",
       "  380: 'Normal',\n",
       "  383: 'Normal',\n",
       "  390: 'Normal',\n",
       "  393: 'Abnorml',\n",
       "  394: 'Normal',\n",
       "  398: 'Abnorml',\n",
       "  406: 'Normal',\n",
       "  413: 'Normal',\n",
       "  417: 'Normal',\n",
       "  418: 'AdjLand',\n",
       "  436: 'Normal',\n",
       "  448: 'Normal',\n",
       "  456: 'Abnorml',\n",
       "  459: 'Normal',\n",
       "  491: 'Normal',\n",
       "  495: 'Abnorml',\n",
       "  497: 'Normal',\n",
       "  514: 'Normal',\n",
       "  522: 'Normal',\n",
       "  533: 'Normal',\n",
       "  546: 'Normal',\n",
       "  555: 'Normal',\n",
       "  557: 'Normal',\n",
       "  563: 'Normal',\n",
       "  565: 'Normal',\n",
       "  575: 'Abnorml',\n",
       "  576: 'Normal',\n",
       "  601: 'Normal',\n",
       "  620: 'Normal',\n",
       "  636: 'Normal',\n",
       "  638: 'Normal',\n",
       "  646: 'Normal',\n",
       "  651: 'Normal',\n",
       "  658: 'Abnorml',\n",
       "  669: 'Normal',\n",
       "  671: 'Normal',\n",
       "  676: 'Normal',\n",
       "  694: 'Normal',\n",
       "  696: 'Normal',\n",
       "  705: 'Normal',\n",
       "  711: 'Abnorml',\n",
       "  729: 'Normal',\n",
       "  736: 'Normal',\n",
       "  749: 'Normal',\n",
       "  761: 'Normal',\n",
       "  786: 'Normal',\n",
       "  799: 'Normal',\n",
       "  814: 'Normal',\n",
       "  823: 'Normal',\n",
       "  826: 'Normal',\n",
       "  840: 'Normal',\n",
       "  844: 'Normal',\n",
       "  852: 'Normal',\n",
       "  868: 'Normal',\n",
       "  873: 'Normal',\n",
       "  874: 'Abnorml',\n",
       "  883: 'Normal',\n",
       "  896: 'Abnorml',\n",
       "  912: 'Abnorml',\n",
       "  913: 'Normal',\n",
       "  916: 'Abnorml',\n",
       "  939: 'Normal',\n",
       "  955: 'Normal',\n",
       "  966: 'Normal',\n",
       "  968: 'Abnorml',\n",
       "  970: 'Abnorml',\n",
       "  985: 'Normal',\n",
       "  995: 'Abnorml',\n",
       "  998: 'Normal',\n",
       "  1001: 'Abnorml',\n",
       "  1009: 'Normal',\n",
       "  1010: 'Normal',\n",
       "  1014: 'Normal',\n",
       "  1022: 'Normal',\n",
       "  1028: 'Normal',\n",
       "  1034: 'Normal',\n",
       "  1059: 'Normal',\n",
       "  1061: 'Normal',\n",
       "  1062: 'Normal',\n",
       "  1072: 'Normal',\n",
       "  1090: 'Normal',\n",
       "  1092: 'Normal',\n",
       "  1098: 'Normal',\n",
       "  1100: 'Normal',\n",
       "  1120: 'Normal',\n",
       "  1130: 'Normal',\n",
       "  1132: 'Normal',\n",
       "  1135: 'Normal',\n",
       "  1136: 'Abnorml',\n",
       "  1139: 'Normal',\n",
       "  1144: 'Normal',\n",
       "  1145: 'Family',\n",
       "  1147: 'Normal',\n",
       "  1148: 'Normal',\n",
       "  1150: 'Normal',\n",
       "  1174: 'Normal',\n",
       "  1178: 'Normal',\n",
       "  1183: 'Normal',\n",
       "  1185: 'Normal',\n",
       "  1197: 'Normal',\n",
       "  1212: 'Normal',\n",
       "  1218: 'Normal',\n",
       "  1222: 'Normal',\n",
       "  1234: 'Abnorml',\n",
       "  1235: 'Normal',\n",
       "  1244: 'Normal',\n",
       "  1248: 'Normal',\n",
       "  1249: 'Normal',\n",
       "  1255: 'Normal',\n",
       "  1257: 'Normal',\n",
       "  1263: 'Normal',\n",
       "  1266: 'Normal',\n",
       "  1275: 'Normal',\n",
       "  1279: 'Abnorml',\n",
       "  1285: 'Normal',\n",
       "  1301: 'Normal',\n",
       "  1321: 'Normal',\n",
       "  1323: 'Normal',\n",
       "  1325: 'Normal',\n",
       "  1328: 'Normal',\n",
       "  1337: 'Normal',\n",
       "  1343: 'Normal',\n",
       "  1345: 'Normal',\n",
       "  1370: 'Normal',\n",
       "  1376: 'Normal',\n",
       "  1380: 'Normal',\n",
       "  1382: 'Normal',\n",
       "  1384: 'Normal',\n",
       "  1387: 'Family',\n",
       "  1389: 'Normal',\n",
       "  1396: 'Normal',\n",
       "  1400: 'Normal',\n",
       "  1404: 'Family',\n",
       "  1408: 'Normal',\n",
       "  1412: 'Normal',\n",
       "  1416: 'Normal',\n",
       "  1427: 'Normal',\n",
       "  1443: 'Normal'},\n",
       " 'YrSold': {8: 2008,\n",
       "  9: 2008,\n",
       "  21: 2007,\n",
       "  29: 2008,\n",
       "  30: 2008,\n",
       "  51: 2006,\n",
       "  63: 2010,\n",
       "  68: 2010,\n",
       "  74: 2010,\n",
       "  90: 2006,\n",
       "  98: 2010,\n",
       "  104: 2007,\n",
       "  107: 2008,\n",
       "  121: 2007,\n",
       "  127: 2007,\n",
       "  149: 2006,\n",
       "  154: 2006,\n",
       "  155: 2008,\n",
       "  156: 2006,\n",
       "  170: 2007,\n",
       "  181: 2006,\n",
       "  198: 2009,\n",
       "  202: 2006,\n",
       "  204: 2009,\n",
       "  210: 2008,\n",
       "  217: 2006,\n",
       "  239: 2010,\n",
       "  242: 2006,\n",
       "  246: 2006,\n",
       "  296: 2007,\n",
       "  307: 2008,\n",
       "  308: 2009,\n",
       "  312: 2006,\n",
       "  325: 2007,\n",
       "  329: 2009,\n",
       "  341: 2009,\n",
       "  342: 2006,\n",
       "  345: 2006,\n",
       "  352: 2008,\n",
       "  375: 2009,\n",
       "  380: 2010,\n",
       "  383: 2009,\n",
       "  390: 2008,\n",
       "  393: 2006,\n",
       "  394: 2007,\n",
       "  398: 2007,\n",
       "  406: 2008,\n",
       "  413: 2010,\n",
       "  417: 2007,\n",
       "  418: 2007,\n",
       "  436: 2006,\n",
       "  448: 2006,\n",
       "  456: 2008,\n",
       "  459: 2009,\n",
       "  491: 2006,\n",
       "  495: 2009,\n",
       "  497: 2008,\n",
       "  514: 2007,\n",
       "  522: 2006,\n",
       "  533: 2007,\n",
       "  546: 2007,\n",
       "  555: 2006,\n",
       "  557: 2006,\n",
       "  563: 2008,\n",
       "  565: 2010,\n",
       "  575: 2008,\n",
       "  576: 2009,\n",
       "  601: 2007,\n",
       "  620: 2008,\n",
       "  636: 2009,\n",
       "  638: 2008,\n",
       "  646: 2008,\n",
       "  651: 2009,\n",
       "  658: 2010,\n",
       "  669: 2006,\n",
       "  671: 2009,\n",
       "  676: 2006,\n",
       "  694: 2009,\n",
       "  696: 2006,\n",
       "  705: 2010,\n",
       "  711: 2010,\n",
       "  729: 2009,\n",
       "  736: 2006,\n",
       "  749: 2009,\n",
       "  761: 2009,\n",
       "  786: 2010,\n",
       "  799: 2007,\n",
       "  814: 2006,\n",
       "  823: 2009,\n",
       "  826: 2008,\n",
       "  840: 2008,\n",
       "  844: 2008,\n",
       "  852: 2007,\n",
       "  868: 2006,\n",
       "  873: 2009,\n",
       "  874: 2009,\n",
       "  883: 2006,\n",
       "  896: 2006,\n",
       "  912: 2006,\n",
       "  913: 2007,\n",
       "  916: 2006,\n",
       "  939: 2010,\n",
       "  955: 2007,\n",
       "  966: 2009,\n",
       "  968: 2009,\n",
       "  970: 2006,\n",
       "  985: 2008,\n",
       "  995: 2006,\n",
       "  998: 2006,\n",
       "  1001: 2007,\n",
       "  1009: 2006,\n",
       "  1010: 2008,\n",
       "  1014: 2007,\n",
       "  1022: 2007,\n",
       "  1028: 2007,\n",
       "  1034: 2007,\n",
       "  1059: 2007,\n",
       "  1061: 2008,\n",
       "  1062: 2007,\n",
       "  1072: 2006,\n",
       "  1090: 2009,\n",
       "  1092: 2008,\n",
       "  1098: 2009,\n",
       "  1100: 2009,\n",
       "  1120: 2007,\n",
       "  1130: 2009,\n",
       "  1132: 2007,\n",
       "  1135: 2007,\n",
       "  1136: 2008,\n",
       "  1139: 2007,\n",
       "  1144: 2010,\n",
       "  1145: 2006,\n",
       "  1147: 2009,\n",
       "  1148: 2008,\n",
       "  1150: 2007,\n",
       "  1174: 2006,\n",
       "  1178: 2009,\n",
       "  1183: 2006,\n",
       "  1185: 2006,\n",
       "  1197: 2006,\n",
       "  1212: 2009,\n",
       "  1218: 2006,\n",
       "  1222: 2007,\n",
       "  1234: 2008,\n",
       "  1235: 2006,\n",
       "  1244: 2006,\n",
       "  1248: 2008,\n",
       "  1249: 2007,\n",
       "  1255: 2007,\n",
       "  1257: 2009,\n",
       "  1263: 2007,\n",
       "  1266: 2007,\n",
       "  1275: 2007,\n",
       "  1279: 2010,\n",
       "  1285: 2009,\n",
       "  1301: 2009,\n",
       "  1321: 2008,\n",
       "  1323: 2009,\n",
       "  1325: 2008,\n",
       "  1328: 2008,\n",
       "  1337: 2006,\n",
       "  1343: 2009,\n",
       "  1345: 2007,\n",
       "  1370: 2009,\n",
       "  1376: 2008,\n",
       "  1380: 2010,\n",
       "  1382: 2006,\n",
       "  1384: 2009,\n",
       "  1387: 2007,\n",
       "  1389: 2007,\n",
       "  1396: 2010,\n",
       "  1400: 2008,\n",
       "  1404: 2006,\n",
       "  1408: 2010,\n",
       "  1412: 2009,\n",
       "  1416: 2010,\n",
       "  1427: 2008,\n",
       "  1443: 2009}}"
      ]
     },
     "execution_count": 118,
     "metadata": {},
     "output_type": "execute_result"
    }
   ],
   "source": [
    "c1 = df['YrSold'] >= 1990\n",
    "c2 = df['YrSold'] <= 2010\n",
    "df['YearRemodAdd'].value_counts()\n",
    "df[['YrSold','SaleCondition']][df['YearRemodAdd'] == 1950].to_dict()"
   ]
  },
  {
   "cell_type": "code",
   "execution_count": null,
   "metadata": {
    "collapsed": false
   },
   "outputs": [],
   "source": [
    "#df.groupby(['YearBuilt']).groups\n",
    "df.columns"
   ]
  },
  {
   "cell_type": "code",
   "execution_count": 119,
   "metadata": {
    "collapsed": false
   },
   "outputs": [
    {
     "ename": "ValueError",
     "evalue": "Could not interpret input 'total_bill'",
     "output_type": "error",
     "traceback": [
      "\u001b[0;31m---------------------------------------------------------------------------\u001b[0m",
      "\u001b[0;31mValueError\u001b[0m                                Traceback (most recent call last)",
      "\u001b[0;32m<ipython-input-119-e1b99fe11c59>\u001b[0m in \u001b[0;36m<module>\u001b[0;34m()\u001b[0m\n\u001b[0;32m----> 1\u001b[0;31m \u001b[0max\u001b[0m \u001b[0;34m=\u001b[0m \u001b[0msns\u001b[0m\u001b[0;34m.\u001b[0m\u001b[0mbarplot\u001b[0m\u001b[0;34m(\u001b[0m\u001b[0mx\u001b[0m\u001b[0;34m=\u001b[0m\u001b[0;34m\"YearBuilt\"\u001b[0m\u001b[0;34m,\u001b[0m \u001b[0my\u001b[0m\u001b[0;34m=\u001b[0m\u001b[0;34m\"total_bill\"\u001b[0m\u001b[0;34m,\u001b[0m \u001b[0mhue\u001b[0m\u001b[0;34m=\u001b[0m\u001b[0;34m\"sex\"\u001b[0m\u001b[0;34m,\u001b[0m \u001b[0mdata\u001b[0m\u001b[0;34m=\u001b[0m\u001b[0mdf\u001b[0m\u001b[0;34m)\u001b[0m\u001b[0;34m\u001b[0m\u001b[0m\n\u001b[0m",
      "\u001b[0;32m/Users/aramamurthy/Library/Enthought/Canopy_64bit/User/lib/python2.7/site-packages/seaborn/categorical.pyc\u001b[0m in \u001b[0;36mbarplot\u001b[0;34m(x, y, hue, data, order, hue_order, estimator, ci, n_boot, units, orient, color, palette, saturation, errcolor, errwidth, capsize, ax, **kwargs)\u001b[0m\n\u001b[1;32m   2897\u001b[0m                           \u001b[0mestimator\u001b[0m\u001b[0;34m,\u001b[0m \u001b[0mci\u001b[0m\u001b[0;34m,\u001b[0m \u001b[0mn_boot\u001b[0m\u001b[0;34m,\u001b[0m \u001b[0munits\u001b[0m\u001b[0;34m,\u001b[0m\u001b[0;34m\u001b[0m\u001b[0m\n\u001b[1;32m   2898\u001b[0m                           \u001b[0morient\u001b[0m\u001b[0;34m,\u001b[0m \u001b[0mcolor\u001b[0m\u001b[0;34m,\u001b[0m \u001b[0mpalette\u001b[0m\u001b[0;34m,\u001b[0m \u001b[0msaturation\u001b[0m\u001b[0;34m,\u001b[0m\u001b[0;34m\u001b[0m\u001b[0m\n\u001b[0;32m-> 2899\u001b[0;31m                           errcolor, errwidth, capsize)\n\u001b[0m\u001b[1;32m   2900\u001b[0m \u001b[0;34m\u001b[0m\u001b[0m\n\u001b[1;32m   2901\u001b[0m     \u001b[0;32mif\u001b[0m \u001b[0max\u001b[0m \u001b[0;32mis\u001b[0m \u001b[0mNone\u001b[0m\u001b[0;34m:\u001b[0m\u001b[0;34m\u001b[0m\u001b[0m\n",
      "\u001b[0;32m/Users/aramamurthy/Library/Enthought/Canopy_64bit/User/lib/python2.7/site-packages/seaborn/categorical.pyc\u001b[0m in \u001b[0;36m__init__\u001b[0;34m(self, x, y, hue, data, order, hue_order, estimator, ci, n_boot, units, orient, color, palette, saturation, errcolor, errwidth, capsize)\u001b[0m\n\u001b[1;32m   1541\u001b[0m         \u001b[0;34m\"\"\"Initialize the plotter.\"\"\"\u001b[0m\u001b[0;34m\u001b[0m\u001b[0m\n\u001b[1;32m   1542\u001b[0m         self.establish_variables(x, y, hue, data, orient,\n\u001b[0;32m-> 1543\u001b[0;31m                                  order, hue_order, units)\n\u001b[0m\u001b[1;32m   1544\u001b[0m         \u001b[0mself\u001b[0m\u001b[0;34m.\u001b[0m\u001b[0mestablish_colors\u001b[0m\u001b[0;34m(\u001b[0m\u001b[0mcolor\u001b[0m\u001b[0;34m,\u001b[0m \u001b[0mpalette\u001b[0m\u001b[0;34m,\u001b[0m \u001b[0msaturation\u001b[0m\u001b[0;34m)\u001b[0m\u001b[0;34m\u001b[0m\u001b[0m\n\u001b[1;32m   1545\u001b[0m         \u001b[0mself\u001b[0m\u001b[0;34m.\u001b[0m\u001b[0mestimate_statistic\u001b[0m\u001b[0;34m(\u001b[0m\u001b[0mestimator\u001b[0m\u001b[0;34m,\u001b[0m \u001b[0mci\u001b[0m\u001b[0;34m,\u001b[0m \u001b[0mn_boot\u001b[0m\u001b[0;34m)\u001b[0m\u001b[0;34m\u001b[0m\u001b[0m\n",
      "\u001b[0;32m/Users/aramamurthy/Library/Enthought/Canopy_64bit/User/lib/python2.7/site-packages/seaborn/categorical.pyc\u001b[0m in \u001b[0;36mestablish_variables\u001b[0;34m(self, x, y, hue, data, orient, order, hue_order, units)\u001b[0m\n\u001b[1;32m    149\u001b[0m                 \u001b[0;32mif\u001b[0m \u001b[0misinstance\u001b[0m\u001b[0;34m(\u001b[0m\u001b[0minput\u001b[0m\u001b[0;34m,\u001b[0m \u001b[0mstring_types\u001b[0m\u001b[0;34m)\u001b[0m\u001b[0;34m:\u001b[0m\u001b[0;34m\u001b[0m\u001b[0m\n\u001b[1;32m    150\u001b[0m                     \u001b[0merr\u001b[0m \u001b[0;34m=\u001b[0m \u001b[0;34m\"Could not interpret input '{}'\"\u001b[0m\u001b[0;34m.\u001b[0m\u001b[0mformat\u001b[0m\u001b[0;34m(\u001b[0m\u001b[0minput\u001b[0m\u001b[0;34m)\u001b[0m\u001b[0;34m\u001b[0m\u001b[0m\n\u001b[0;32m--> 151\u001b[0;31m                     \u001b[0;32mraise\u001b[0m \u001b[0mValueError\u001b[0m\u001b[0;34m(\u001b[0m\u001b[0merr\u001b[0m\u001b[0;34m)\u001b[0m\u001b[0;34m\u001b[0m\u001b[0m\n\u001b[0m\u001b[1;32m    152\u001b[0m \u001b[0;34m\u001b[0m\u001b[0m\n\u001b[1;32m    153\u001b[0m             \u001b[0;31m# Figure out the plotting orientation\u001b[0m\u001b[0;34m\u001b[0m\u001b[0;34m\u001b[0m\u001b[0m\n",
      "\u001b[0;31mValueError\u001b[0m: Could not interpret input 'total_bill'"
     ]
    }
   ],
   "source": [
    "ax = sns.barplot(x=\"YearBuilt\", y=\"total_bill\", hue=\"sex\", data=df)"
   ]
  },
  {
   "cell_type": "code",
   "execution_count": 120,
   "metadata": {
    "collapsed": false,
    "scrolled": false
   },
   "outputs": [
    {
     "data": {
      "text/plain": [
       "<seaborn.axisgrid.FacetGrid at 0x117140b90>"
      ]
     },
     "execution_count": 120,
     "metadata": {},
     "output_type": "execute_result"
    },
    {
     "data": {
      "image/png": "[encoded data removed]",
      "text/plain": [
       "<matplotlib.figure.Figure at 0x11711bad0>"
      ]
     },
     "metadata": {},
     "output_type": "display_data"
    }
   ],
   "source": [
    "years = np.arange(1870, 2010)\n",
    "\n",
    "g = sns.factorplot(x=\"YearBuilt\", data=df, kind=\"count\",\n",
    "                   palette=\"BuPu\", size=6, aspect=1.5, order=years)\n",
    "g.set_xticklabels(step=10)"
   ]
  },
  {
   "cell_type": "code",
   "execution_count": 18,
   "metadata": {
    "collapsed": false
   },
   "outputs": [],
   "source": [
    "sns.set(style=\"whitegrid\", color_codes=True)\n",
    "# plt.title(\"House Style and Sale Price\")\n",
    "# # sns.stripplot(x=\"Neighborhood\", y=\"SalePrice\", data=df,jitter=True, o='h');\n",
    "\n",
    "# sns.boxplot(x=\"SaleType\", y=\"SalePrice\", data=df);"
   ]
  },
  {
   "cell_type": "code",
   "execution_count": null,
   "metadata": {
    "collapsed": false
   },
   "outputs": [],
   "source": [
    "df.groupby(['SaleType','YrSold','YearBuilt','YearRemodAdd']).count().to_dict()"
   ]
  },
  {
   "cell_type": "code",
   "execution_count": null,
   "metadata": {
    "collapsed": false
   },
   "outputs": [],
   "source": [
    "# f, axes = plt.subplots(2, 2, figsize=(7, 7), sharex=True)\n",
    "plt.title(\"Number of Houses built each year\")\n",
    "plt.xlabel(\"Year\")\n",
    "plt.ylabel(\"Count\")\n",
    "df[\"YearBuilt\"].hist()"
   ]
  },
  {
   "cell_type": "code",
   "execution_count": null,
   "metadata": {
    "collapsed": false
   },
   "outputs": [],
   "source": [
    "test = pd.read_csv(\"test.csv\")"
   ]
  },
  {
   "cell_type": "code",
   "execution_count": 20,
   "metadata": {
    "collapsed": false
   },
   "outputs": [
    {
     "data": {
      "text/plain": [
       "<seaborn.axisgrid.FacetGrid at 0x1106b1b50>"
      ]
     },
     "execution_count": 20,
     "metadata": {},
     "output_type": "execute_result"
    },
    {
     "data": {
      "image/png": "[encoded data removed]",
      "text/plain": [
       "<matplotlib.figure.Figure at 0x110644790>"
      ]
     },
     "metadata": {},
     "output_type": "display_data"
    }
   ],
   "source": [
    "years = np.arange(1870, 2010)\n",
    "g = sns.factorplot(x=\"YearBuilt\", data=df, kind=\"count\",\n",
    "                   palette=\"BuPu\", size=6, aspect=1.5, order=years)\n",
    "g.set_xticklabels(step=10)"
   ]
  },
  {
   "cell_type": "code",
   "execution_count": null,
   "metadata": {
    "collapsed": true
   },
   "outputs": [],
   "source": [
    "df.plot.bar();"
   ]
  },
  {
   "cell_type": "code",
   "execution_count": null,
   "metadata": {
    "collapsed": false
   },
   "outputs": [],
   "source": [
    "sns.distplot(df['SalePrice']);"
   ]
  },
  {
   "cell_type": "code",
   "execution_count": null,
   "metadata": {
    "collapsed": false
   },
   "outputs": [],
   "source": [
    "df[df['SalePrice'] == 755000.000000]"
   ]
  },
  {
   "cell_type": "code",
   "execution_count": null,
   "metadata": {
    "collapsed": false
   },
   "outputs": [],
   "source": [
    "df['LotArea'].describe()"
   ]
  },
  {
   "cell_type": "code",
   "execution_count": null,
   "metadata": {
    "collapsed": false
   },
   "outputs": [],
   "source": [
    "print df[df['LotArea'] == 215245]"
   ]
  },
  {
   "cell_type": "code",
   "execution_count": null,
   "metadata": {
    "collapsed": false,
    "scrolled": false
   },
   "outputs": [],
   "source": [
    "# df[['BsmtQual', 'BsmtCond', 'BsmtExposure', \n",
    "#  'BsmtFinType1','BsmtFinSF1','BsmtFinType2',\n",
    "#    'BsmtFinSF2','BsmtUnfSF','TotalBsmtSF']].to_dict()\n",
    "#df.ix[df['Alley'].isnull()].to_dict()['Street']\n",
    "#df.ix[df['MiscFeature'].isnull()].to_dict()['MiscVal']\n",
    "#df['Fence'].describe()"
   ]
  },
  {
   "cell_type": "code",
   "execution_count": null,
   "metadata": {
    "collapsed": false
   },
   "outputs": [],
   "source": [
    "for i in df.columns:\n",
    "    print i,df[i][313],df[i][691]"
   ]
  },
  {
   "cell_type": "code",
   "execution_count": null,
   "metadata": {
    "collapsed": false
   },
   "outputs": [],
   "source": [
    "# df['Neighborhood'].ix[df['Electrical'].isnull()]\n",
    "# df[['Neighborhood','Electrical']].groupby(['Neighborhood','Electrical']).groups\n",
    "#df[['Neighborhood','MasVnrType','MasVnrArea']].groupby(['Neighborhood','MasVnrType','MasVnrArea']).groups\n",
    "df[['Neighborhood', 'MasVnrType']].ix[df['MasVnrArea'].isnull()]"
   ]
  },
  {
   "cell_type": "code",
   "execution_count": null,
   "metadata": {
    "collapsed": false
   },
   "outputs": [],
   "source": [
    "def find_missing_columns(df):\n",
    "    lst_nmissing = []\n",
    "    lst_missing = []\n",
    "    for c in df.columns:\n",
    "        if not (df[c].count() < 1460):\n",
    "            lst_nmissing.append(c)\n",
    "        else:\n",
    "            print c, (1460 - df[c].count())\n",
    "            lst_missing.append(c)\n",
    "    #print lst_missing\n",
    "    \n",
    "    print \"Number of Columns with no missing value:\",len(lst_nmissing)\n",
    "    \n",
    "    print \"Number of Columns with missing value:\",len(lst_missing)\n",
    "    \n",
    "    #lst_missing.append('SalePrice')\n",
    "    \n",
    "    #lst_missing.append('TotalBsmtSF')\n",
    "    return lst_missing,lst_nmissing\n",
    "missing_c,notmissing_c = find_missing_columns(df)\n",
    "#print notmissing_c\n",
    "#fill_df = df[notmissing_c]\n"
   ]
  },
  {
   "cell_type": "code",
   "execution_count": 6,
   "metadata": {
    "collapsed": false
   },
   "outputs": [],
   "source": [
    "def fill_missing(df):\n",
    "    \n",
    "    df['LotFrontage'].fillna(0,inplace=True)\n",
    "    df['Alley'].fillna('NA',inplace=True)\n",
    "    df['MasVnrArea'].fillna(0,inplace=True)\n",
    "    df['MasVnrType'].fillna('None',inplace=True)\n",
    "    df['BsmtQual'].fillna('NA',inplace=True)\n",
    "    df['BsmtCond'].fillna('NA',inplace=True)\n",
    "    df['BsmtExposure'].fillna('NA',inplace=True)\n",
    "    df['BsmtFinType1'].fillna('NA',inplace=True)\n",
    "    df['BsmtFinType2'].fillna('NA',inplace=True)\n",
    "    df['Electrical'].fillna('FuseA',inplace=True)\n",
    "    df['FireplaceQu'].fillna('NA',inplace=True)\n",
    "    df['GarageType'].fillna('NA',inplace=True)\n",
    "\n",
    "    # Remove column\n",
    "    #df['GarageYrBlt'].fillna('None',inplace=True)\n",
    "\n",
    "    df['GarageFinish'].fillna('NA',inplace=True)\n",
    "    df['GarageQual'].fillna('NA',inplace=True)\n",
    "    df['GarageCond'].fillna('NA',inplace=True)\n",
    "    df['PoolQC'].fillna('NA',inplace=True)\n",
    "    df['Fence'].fillna('MnWw',inplace=True)\n",
    "    df['MiscFeature'].fillna('NA',inplace=True)\n",
    "    \n",
    "    return df\n"
   ]
  },
  {
   "cell_type": "code",
   "execution_count": 7,
   "metadata": {
    "collapsed": true
   },
   "outputs": [],
   "source": [
    "def vectorize(df):\n",
    "    \n",
    "    data = df.to_dict(orient='records')\n",
    "    \n",
    "    vec = DictVectorizer()\n",
    "    \n",
    "    vec_data = vec.fit_transform(data).toarray()\n",
    "    \n",
    "    return vec,vec_data"
   ]
  },
  {
   "cell_type": "code",
   "execution_count": 8,
   "metadata": {
    "collapsed": false
   },
   "outputs": [],
   "source": [
    "def linear_regr(train,target,feature_names):\n",
    "    \n",
    "    X = train\n",
    "    y = target\n",
    "    \n",
    "    X_train, X_test, y_train, y_test = train_test_split(X, y, test_size=0.33, random_state=42)\n",
    "    \n",
    "    #print X_train.shape, X_test.shape, y_train.shape, y_test.shape\n",
    "    regr = linear_model.LinearRegression()\n",
    "    \n",
    "    #fit model\n",
    "    regr.fit(X_train, y_train)\n",
    "    \n",
    "    predicted = regr.predict(X_test)\n",
    "    \n",
    "    data = zip(y_test.tolist(),predicted)\n",
    "    \n",
    "    actvspred_df = pd.DataFrame(data,columns=['Actual','Predicted'])\n",
    "    \n",
    "    #print predicted.score\n",
    "    \n",
    "    #plot_actual_predicted(actvspred_df)\n",
    "    \n",
    "    #print actvspred_df\n",
    "    \n",
    "    # The coefficients\n",
    "    #print('Coefficients: \\n', regr.coef_)\n",
    "    \n",
    "    # The mean squared error\n",
    "    print(\"Mean squared error: %.2f\" % np.mean((regr.predict(X_test) - y_test) ** 2))\n",
    "    \n",
    "    # Explained variance score: 1 is perfect prediction\n",
    "    print('Variance score: %.2f' % regr.score(X_test, y_test))\n",
    "    \n",
    "    plot_coeffs(regr.coef_,feature_names,\"Linear\")\n"
   ]
  },
  {
   "cell_type": "code",
   "execution_count": 9,
   "metadata": {
    "collapsed": true
   },
   "outputs": [],
   "source": [
    "def plot_coeffs(coeffs,feature_names,model_name):\n",
    "    \n",
    "    coeff = pd.Series(coeffs,index = feature_names )\n",
    "    imp_coef = pd.concat([coeff.sort_values().head(10),\n",
    "                     coeff.sort_values().tail(10)])\n",
    "    \n",
    "    matplotlib.rcParams['figure.figsize'] = (8.0, 10.0)\n",
    "    imp_coef.plot(kind = \"bar\")\n",
    "\n",
    "    plt.title(\"Coefficients in the \"+model_name+\" Model\")"
   ]
  },
  {
   "cell_type": "code",
   "execution_count": 10,
   "metadata": {
    "collapsed": true
   },
   "outputs": [],
   "source": [
    "def adaboost(train,target,feature_names):\n",
    "\n",
    "    X = train\n",
    "    y = target\n",
    "    \n",
    "    X_train, X_test, y_train, y_test = train_test_split(X, y, test_size=0.33, random_state=42)\n",
    "    rng = np.random.RandomState(1)\n",
    "    \n",
    "    regr = AdaBoostRegressor(DecisionTreeRegressor(max_depth=4),\n",
    "                              n_estimators=300, random_state=rng)\n",
    "    \n",
    "    \n",
    "    regr.fit(X_train, y_train)\n",
    "\n",
    "    # Predict\n",
    "    predicted = regr.predict(X_test)\n",
    "    \n",
    "    data = zip(y_test.tolist(),predicted)\n",
    "    \n",
    "    actvspred_df = pd.DataFrame(data,columns=['Actual','Predicted'])\n",
    "    \n",
    "    print regr.score(X_test, y_test)\n",
    "    \n",
    "#     plot_actual_predicted(actvspred_df)\n",
    "    "
   ]
  },
  {
   "cell_type": "code",
   "execution_count": 11,
   "metadata": {
    "collapsed": false
   },
   "outputs": [],
   "source": [
    "# reduced = df.columns.tolist()\n",
    "# # removing certain fields\n",
    "# reduced.remove('Alley')\n",
    "# reduced.remove('PoolQC')\n",
    "# reduced.remove('Fence')\n",
    "# reduced.remove('MiscFeature')\n",
    "\n",
    "# # removing rows that have missing fields\n",
    "# refined_df = refined_df.dropna()\n",
    "\n",
    "# #removing target variable to get the train set\n",
    "# reduced.remove('SalePrice')\n",
    "# train_df = refined_df[reduced]\n",
    "\n",
    "# #have the target variable\n",
    "# target_df = refined_df['SalePrice']\n",
    "\n",
    "# #vectorize train \n",
    "# vec,train = vectorize(train_df)\n",
    "\n",
    "# #call the regression method\n",
    "# #linear_regr(train,target_df,vec.get_feature_names())\n",
    "\n",
    "# imp_features_linear = ['LotArea','BsmtExposure', '1stFlrSF', 'BldgType', 'BsmtFinType1',\n",
    "#                        'BsmtCond', '2ndFlrSF', 'LowQualFinSF','TotalBsmtSF','GrLivArea','SalePrice']\n",
    "# linear_df = refined_df[imp_features_linear]\n",
    "\n",
    "def preprocessing(df):\n",
    "    \n",
    "    train = df.columns.tolist()\n",
    "    \n",
    "    train.remove('SalePrice')\n",
    "    \n",
    "    train.remove('Id')\n",
    "    \n",
    "    train.remove('GarageYrBlt')\n",
    "    \n",
    "    train.remove('Alley')\n",
    "    \n",
    "    train_df = df[train]\n",
    "    \n",
    "    #print len(train_df.columns)\n",
    "    target_df = df['SalePrice']\n",
    "    \n",
    "    vec,train = vectorize(train_df)\n",
    "    \n",
    "    return vec,train\n",
    "\n",
    "#call the regression method\n",
    "new_df = fill_missing(df)\n",
    "\n",
    "vec,train = preprocessing(new_df)\n",
    "\n",
    "# linear_regr(train,target_df,vec.get_feature_names())\n",
    "\n",
    "# call decsion tree\n",
    "#decision_Tree(train,target_df,vec.get_feature_names())\n",
    "\n",
    "#adaboost(train,target_df,vec.get_feature_names())\n",
    "\n",
    "#decision_tree_regr(train,target_df,vec.get_feature_names())"
   ]
  },
  {
   "cell_type": "code",
   "execution_count": 12,
   "metadata": {
    "collapsed": false
   },
   "outputs": [
    {
     "name": "stdout",
     "output_type": "stream",
     "text": [
      "Mean squared error: 116376940667428143104.00\n",
      "Variance score: -15852164112.21\n"
     ]
    },
    {
     "data": {
      "image/png": "[encoded data removed]",
      "text/plain": [
       "<matplotlib.figure.Figure at 0x1106e0550>"
      ]
     },
     "metadata": {},
     "output_type": "display_data"
    }
   ],
   "source": [
    "from sklearn.model_selection import KFold\n",
    "from sklearn.model_selection import cross_val_score\n",
    "\n",
    "new_df = fill_missing(df)\n",
    "\n",
    "vec,train = preprocessing(new_df)\n",
    "target = new_df['SalePrice']\n",
    "\n",
    "def kfold_crossvalidation(train,target,feature_names):\n",
    "    \n",
    "    X = train\n",
    "    y = target\n",
    "    \n",
    "    scores = list()\n",
    "    scores_std = list()\n",
    "    \n",
    "    rng = np.random.RandomState()\n",
    "    regr = AdaBoostRegressor(DecisionTreeRegressor(max_depth=5),\n",
    "                              n_estimators=300, random_state=rng)\n",
    "#     regr = DecisionTreeRegressor(max_depth=6)\n",
    "                            \n",
    "    #regr.fit(X_train, y_train)\n",
    "    \n",
    "    n_folds = 10\n",
    "\n",
    "    this_scores = cross_val_score(regr, X, y, cv=n_folds, n_jobs=1)\n",
    "    print this_scores\n",
    "    scores.append(np.mean(this_scores))\n",
    "    scores_std.append(np.std(this_scores))\n",
    "\n",
    "    scores, scores_std = np.array(scores), np.array(scores_std)\n",
    "    \n",
    "    print scores\n",
    "\n",
    "# kfold_crossvalidation(train,target,vec.get_feature_names())\n",
    "\n",
    "linear_regr(train,target,vec.get_feature_names())\n",
    "\n",
    "#decision_tree_regr(train,target,vec.get_feature_names())\n",
    "# adaboost(train,target,vec.get_feature_names())"
   ]
  },
  {
   "cell_type": "code",
   "execution_count": 113,
   "metadata": {
    "collapsed": true
   },
   "outputs": [],
   "source": [
    "def decision_tree_regr(train,target,feature_names):\n",
    "    \n",
    "    X = train\n",
    "    y = target\n",
    "    \n",
    "    X_train, X_test, y_train, y_test = train_test_split(X, y, test_size=0.33, random_state=42)\n",
    "    \n",
    "    regr = DecisionTreeRegressor(max_depth=4)\n",
    "    regr.fit(X_train, y_train)\n",
    "    \n",
    "    predicted = regr.predict(X_test)\n",
    "    \n",
    "    print regr.score(X_test, y_test)\n",
    "    \n",
    "    data = zip(y_test.tolist(),predicted)\n",
    "    \n",
    "    actvspred_df = pd.DataFrame(data,columns=['Actual','Predicted'])\n",
    "    \n",
    "    # Explained variance score: 1 is perfect prediction\n",
    "    #     print('Variance score: %.2f' % regr.score(X_test, y_test))\n",
    "    \n",
    "    \n",
    "    #     print regr.feature_importances_\n",
    "    \n",
    "    #     plot_actual_predicted(actvspred_df)\n",
    "    plot_decision_tree_flowchart(regr,feature_names)"
   ]
  },
  {
   "cell_type": "code",
   "execution_count": 110,
   "metadata": {
    "collapsed": false
   },
   "outputs": [],
   "source": [
    "def decision_Tree(train,target,feature_names):\n",
    "    \n",
    "    X = train\n",
    "    y = target\n",
    "    \n",
    "    X_train, X_test, y_train, y_test = train_test_split(X, y, test_size=0.33, random_state=42)\n",
    "    \n",
    "    #print X_train.shape, X_test.shape, y_train.shape, y_test.shape\n",
    "    \n",
    "    dtree = tree.DecisionTreeClassifier()\n",
    "    dtree.fit(train, target)\n",
    "    \n",
    "    #fit model\n",
    "    dtree.fit(X_train, y_train)\n",
    "    \n",
    "    predicted = dtree.predict(X_test)\n",
    "    \n",
    "    data = zip(y_test.tolist(),predicted)\n",
    "    \n",
    "    actvspred_df = pd.DataFrame(data,columns=['Actual','Predicted'])\n",
    "    \n",
    "    #plot_actual_predicted(actvspred_df)\n",
    "    \n",
    "    # The mean squared error\n",
    "    print(\"Mean squared error: %.2f\" % np.mean((dtree.predict(X_test) - y_test) ** 2))\n",
    "    \n",
    "    # Explained variance score: 1 is perfect prediction\n",
    "    print('Variance score: %.2f' % dtree.score(X_test, y_test))\n",
    "    \n",
    "#     print dtree.feature_importance_\n",
    "    \n",
    "    #plot_decision_tree(dtree,feature_names)\n",
    "    \n",
    "def plot_decision_tree_flowchart(dtree,t_feature_names):\n",
    "    \n",
    "    with open('/Users/aramamurthy/Downloads/Github/Kaggle-HPAR/tree.dot','w') as dotfile:\n",
    "        export_graphviz(dtree,dotfile,feature_names=t_feature_names)\n",
    "    \n",
    "    graph = pydotplus.graphviz.graph_from_dot_file(\"tree.dot\")\n",
    "    graph.write_png('/Users/aramamurthy/Downloads/Github/Kaggle-HPAR/tree_diagram.png')\n",
    "        \n",
    "def plot_actual_predicted(df):\n",
    "    \n",
    "    g = sns.jointplot( \"Predicted\",\"Actual\", data=df, kind=\"reg\")\n",
    "    g.set_axis_labels('Predicted in $', 'Actual in $')\n",
    "    plt.title(\"Predicted vs Actual - Decision Tree\",x=0.5, y = 1.2)"
   ]
  }
 ],
 "metadata": {
  "kernelspec": {
   "display_name": "Python 2",
   "language": "python",
   "name": "python2"
  },
  "language_info": {
   "codemirror_mode": {
    "name": "ipython",
    "version": 2
   },
   "file_extension": ".py",
   "mimetype": "text/x-python",
   "name": "python",
   "nbconvert_exporter": "python",
   "pygments_lexer": "ipython2",
   "version": "2.7.11"
  }
 },
 "nbformat": 4,
 "nbformat_minor": 0
}
