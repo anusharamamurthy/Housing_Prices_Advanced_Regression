{
 "cells": [
  {
   "cell_type": "code",
   "execution_count": 72,
   "metadata": {
    "collapsed": false
   },
   "outputs": [],
   "source": [
    "%matplotlib inline\n",
    "import pandas as pd\n",
    "import matplotlib\n",
    "import numpy as np\n",
    "import matplotlib.pyplot as plt\n",
    "import seaborn as sns\n",
    "\n",
    "from sklearn import datasets, linear_model\n",
    "from sklearn.linear_model import Lasso\n",
    "from sklearn.ensemble import AdaBoostRegressor\n",
    "from sklearn.tree import DecisionTreeRegressor, export_graphviz\n",
    "from sklearn.feature_extraction import DictVectorizer\n",
    "from sklearn.model_selection import train_test_split\n",
    "from sklearn.model_selection import cross_val_score\n",
    "from IPython.display import Image "
   ]
  },
  {
   "cell_type": "code",
   "execution_count": 20,
   "metadata": {
    "collapsed": true
   },
   "outputs": [],
   "source": [
    "df = pd.read_csv(\"train.csv\")"
   ]
  },
  {
   "cell_type": "code",
   "execution_count": 21,
   "metadata": {
    "collapsed": true
   },
   "outputs": [],
   "source": [
    "def fill_missing(df):\n",
    "    \n",
    "    df['LotFrontage'].fillna(0,inplace=True)\n",
    "    df['Alley'].fillna('NA',inplace=True)\n",
    "    df['MasVnrArea'].fillna(0,inplace=True)\n",
    "    df['MasVnrType'].fillna('None',inplace=True)\n",
    "    df['BsmtQual'].fillna('NA',inplace=True)\n",
    "    df['BsmtCond'].fillna('NA',inplace=True)\n",
    "    df['BsmtExposure'].fillna('NA',inplace=True)\n",
    "    df['BsmtFinType1'].fillna('NA',inplace=True)\n",
    "    df['BsmtFinType2'].fillna('NA',inplace=True)\n",
    "    df['Electrical'].fillna('FuseA',inplace=True)\n",
    "    df['FireplaceQu'].fillna('NA',inplace=True)\n",
    "    df['GarageType'].fillna('NA',inplace=True)\n",
    "\n",
    "    # Remove column\n",
    "    #df['GarageYrBlt'].fillna('None',inplace=True)\n",
    "\n",
    "    df['GarageFinish'].fillna('NA',inplace=True)\n",
    "    df['GarageQual'].fillna('NA',inplace=True)\n",
    "    df['GarageCond'].fillna('NA',inplace=True)\n",
    "    df['PoolQC'].fillna('NA',inplace=True)\n",
    "    df['Fence'].fillna('MnWw',inplace=True)\n",
    "    df['MiscFeature'].fillna('NA',inplace=True)\n",
    "    \n",
    "    return df"
   ]
  },
  {
   "cell_type": "code",
   "execution_count": 103,
   "metadata": {
    "collapsed": false
   },
   "outputs": [],
   "source": [
    "def linear_regr(train,target,feature_names):\n",
    "    \n",
    "    X = train\n",
    "    y = target\n",
    "    \n",
    "    X_train, X_test, y_train, y_test = train_test_split(X, y, test_size=0.33, random_state=42)\n",
    "    \n",
    "    #print X_train.shape, X_test.shape, y_train.shape, y_test.shape\n",
    "#     regr = linear_model.LinearRegression()\n",
    "\n",
    "    regr = Lasso()\n",
    "    \n",
    "    #fit model\n",
    "    regr.fit(X_train, y_train)\n",
    "    \n",
    "    predicted = regr.predict(X_test)\n",
    "    \n",
    "    data = zip(y_test.tolist(),predicted)\n",
    "    \n",
    "    actvspred_df = pd.DataFrame(data,columns=['Actual_SalePrice','Predicted_SalePrice'])\n",
    "    \n",
    "    plot_actual_predicted(actvspred_df)\n",
    "    \n",
    "    #print actvspred_df\n",
    "    \n",
    "    # The coefficients\n",
    "    #print('Coefficients: \\n', regr.coef_)\n",
    "    \n",
    "    # The mean squared error\n",
    "    #print(\"Mean squared error: %.2f\" % np.mean((regr.predict(X_test) - y_test) ** 2))\n",
    "    \n",
    "    # Explained variance score: 1 is perfect prediction\n",
    "    #print('Variance score: %.2f' % regr.score(X_test, y_test))\n",
    "    \n",
    "    #plot_coeffs(regr.coef_,feature_names,\"Lasso\")\n",
    "\n",
    "def plot_coeffs(coeffs,feature_names,model_name):\n",
    "    \n",
    "    coeff = pd.Series(coeffs,index = feature_names )\n",
    "    imp_coef = pd.concat([coeff.sort_values().head(10),\n",
    "                     coeff.sort_values().tail(10)])\n",
    "    \n",
    "    matplotlib.rcParams['figure.figsize'] = (8.0, 10.0)\n",
    "    imp_coef.plot(kind = \"barh\")\n",
    "\n",
    "    plt.title(\"Coefficients in the \"+model_name+\" Model\")"
   ]
  },
  {
   "cell_type": "code",
   "execution_count": 108,
   "metadata": {
    "collapsed": true
   },
   "outputs": [],
   "source": [
    "def plot_actual_predicted(df):\n",
    "    \n",
    "    g = sns.jointplot( \"Predicted_SalePrice\",\"Actual_SalePrice\", data=df, kind=\"reg\")"
   ]
  },
  {
   "cell_type": "code",
   "execution_count": 109,
   "metadata": {
    "collapsed": true
   },
   "outputs": [],
   "source": [
    "def vectorize(df):\n",
    "    \n",
    "    data = df.to_dict(orient='records')\n",
    "    \n",
    "    vec = DictVectorizer()\n",
    "    \n",
    "    vec_data = vec.fit_transform(data).toarray()\n",
    "    \n",
    "    return vec,vec_data"
   ]
  },
  {
   "cell_type": "code",
   "execution_count": 110,
   "metadata": {
    "collapsed": true
   },
   "outputs": [],
   "source": [
    "def preprocessing(df):\n",
    "    \n",
    "    train = df.columns.tolist()\n",
    "    \n",
    "    train.remove('SalePrice')\n",
    "    \n",
    "    train.remove('Id')\n",
    "    \n",
    "    train.remove('GarageYrBlt')\n",
    "    \n",
    "#     train.remove('Alley')\n",
    "    \n",
    "#     train.remove('BsmtQual')\n",
    "    \n",
    "#     train.remove('BsmtCond')\n",
    "    \n",
    "#     train.remove('BsmtExposure')\n",
    "    \n",
    "#     train.remove('BsmtFinType1')\n",
    "    \n",
    "#     train.remove('BsmtFinType2')\n",
    "    \n",
    "#     train.remove('GarageFinish')\n",
    "    \n",
    "#     train.remove('GarageQual')\n",
    "    \n",
    "#     train.remove('GarageCond')\n",
    "    \n",
    "#     train.remove('PoolQC')\n",
    "    \n",
    "#     train.remove('Fence')\n",
    "    \n",
    "#     train.remove('FireplaceQu')\n",
    "    \n",
    "#     train.remove('MiscFeature')\n",
    "    \n",
    "    train_df = df[train]\n",
    "    \n",
    "    #print len(train_df.columns)\n",
    "    target_df = df['SalePrice']\n",
    "    \n",
    "    vec,train = vectorize(train_df)\n",
    "    \n",
    "    return vec,train"
   ]
  },
  {
   "cell_type": "code",
   "execution_count": 111,
   "metadata": {
    "collapsed": false
   },
   "outputs": [
    {
     "data": {
      "image/png": "[encoded data removed]",
      "text/plain": [
       "<matplotlib.figure.Figure at 0x11bb69d90>"
      ]
     },
     "metadata": {},
     "output_type": "display_data"
    }
   ],
   "source": [
    "new_df = fill_missing(df)\n",
    "\n",
    "vec,train = preprocessing(new_df)\n",
    "target = new_df['SalePrice']\n",
    "\n",
    "linear_regr(train,target,vec.get_feature_names())"
   ]
  },
  {
   "cell_type": "code",
   "execution_count": 84,
   "metadata": {
    "collapsed": false
   },
   "outputs": [],
   "source": [
    "from sklearn.model_selection import KFold\n",
    "from sklearn.model_selection import cross_val_score\n",
    "\n",
    "new_df = fill_missing(df)\n",
    "\n",
    "vec,train = preprocessing(new_df)\n",
    "target = new_df['SalePrice']\n",
    "\n",
    "def kfold_crossvalidation(train,target,feature_names):\n",
    "    \n",
    "    X = train\n",
    "    y = target\n",
    "    \n",
    "    scores = list()\n",
    "    scores_std = list()\n",
    "    \n",
    "    rng = np.random.RandomState()\n",
    "    regr = AdaBoostRegressor(Lasso,\n",
    "                                  n_estimators=300, random_state=rng)\n",
    "    #regr = DecisionTreeRegressor(max_depth=6)\n",
    "                            \n",
    "    #regr.fit(X_train, y_train)\n",
    "    \n",
    "    n_folds = 10\n",
    "    \n",
    "#   regr = linear_model.LinearRegression()\n",
    "\n",
    "    lasso = Lasso(random_state=0)\n",
    "\n",
    "    this_scores = cross_val_score(lasso, X, y, cv=n_folds, n_jobs=1)\n",
    "    print this_scores\n",
    "    scores.append(np.mean(this_scores))\n",
    "    scores_std.append(np.std(this_scores))\n",
    "\n",
    "    scores, scores_std = np.array(scores), np.array(scores_std)\n",
    "    \n",
    "    print \"%0.1f\" % scores"
   ]
  },
  {
   "cell_type": "code",
   "execution_count": 85,
   "metadata": {
    "collapsed": false
   },
   "outputs": [
    {
     "name": "stdout",
     "output_type": "stream",
     "text": [
      "[ 0.89803585  0.83660425  0.91533441  0.75207632  0.90215122  0.68805571\n",
      "  0.8872937   0.89633113  0.45428074  0.80020444]\n",
      "0.8\n"
     ]
    }
   ],
   "source": [
    "kfold_crossvalidation(train,target,vec.get_feature_names())"
   ]
  },
  {
   "cell_type": "code",
   "execution_count": null,
   "metadata": {
    "collapsed": true
   },
   "outputs": [],
   "source": []
  }
 ],
 "metadata": {
  "kernelspec": {
   "display_name": "Python 2",
   "language": "python",
   "name": "python2"
  },
  "language_info": {
   "codemirror_mode": {
    "name": "ipython",
    "version": 2
   },
   "file_extension": ".py",
   "mimetype": "text/x-python",
   "name": "python",
   "nbconvert_exporter": "python",
   "pygments_lexer": "ipython2",
   "version": "2.7.11"
  }
 },
 "nbformat": 4,
 "nbformat_minor": 0
}
